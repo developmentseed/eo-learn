{
  "cells": [
    {
      "cell_type": "markdown",
      "source": [
        "# Prepare Superresolution Training Data with eo-learn\n",
        "\n",
        "There are many examples and resources for training superresolution networks on (satellite) imagery:\n",
        "- [MDL4EO](https://mdl4eo.irstea.fr/2019/03/29/enhancement-of-sentinel-2-images-at-1-5m/)\n",
        "- [ElementAI HighRes-Net](https://github.com/ElementAI/HighRes-net)\n",
        "- [Fast.ai superresolution](https://github.com/fastai/course-v3/blob/master/nbs/dl1/lesson7-superres.ipynb)\n",
        "\n",
        "We'll show you how to use `eo-learn` to prepare data for these tasks (and an example of training the network with `fastai`)"
      ],
      "metadata": {}
    },
    {
      "cell_type": "markdown",
      "source": [
        "First you'll need to download the [Spacenet Challenge: Paris Data](https://spacenetchallenge.github.io/AOI_Lists/AOI_3_Paris.html). We're using this to get high resolution image chips."
      ],
      "metadata": {}
    },
    {
      "cell_type": "code",
      "source": [
        "from os import path as op\n",
        "from glob import glob\n",
        "import datetime\n",
        "\n",
        "from eolearn.io import ImportFromTiff, S2L2AWCSInput\n",
        "from eolearn.core import FeatureType, LinearWorkflow, EOTask\n",
        "from sentinelhub import BBox, CRS\n",
        "\n",
        "from PIL import Image\n",
        "import numpy as np\n",
        "from tqdm import tqdm"
      ],
      "outputs": [],
      "execution_count": 1,
      "metadata": {
        "collapsed": false,
        "outputHidden": false,
        "inputHidden": false
      }
    },
    {
      "cell_type": "code",
      "source": [
        "spacenet_images = glob('AOI_3_Paris_Train/RGB-PanSharpen/*.tif')"
      ],
      "outputs": [],
      "execution_count": 2,
      "metadata": {
        "collapsed": false,
        "outputHidden": false,
        "inputHidden": false
      }
    },
    {
      "cell_type": "code",
      "source": [
        "# Import the Spacenet chips into EOPatches, as a feature called \"spacenet\"\n",
        "input_task = ImportFromTiff((FeatureType.DATA_TIMELESS, 'spacenet'))"
      ],
      "outputs": [],
      "execution_count": 3,
      "metadata": {
        "collapsed": false,
        "outputHidden": false,
        "inputHidden": false
      }
    },
    {
      "cell_type": "code",
      "source": [
        "# Add Sentinel 2 L2A to our EOPatches covering the same area\n",
        "time_interval = ('2017-02-28', '2017-04-01') # roughly matching the spacenet dates\n",
        "layer = 'TRUE-COLOR-S2-L2A'\n",
        "\n",
        "add_l2a = S2L2AWCSInput(layer=layer, resx='10m', resy='10m', maxcc=0.1, time_difference=datetime.timedelta(hours=2))"
      ],
      "outputs": [],
      "execution_count": 4,
      "metadata": {
        "collapsed": false,
        "outputHidden": false,
        "inputHidden": false
      }
    },
    {
      "cell_type": "code",
      "source": [
        "# Save the Spacenet and Sentinel images in separate folders. Resize our images when saving \n",
        "\n",
        "BIG_SIZE = (256, 256)\n",
        "SMALL_SIZE = (64, 64)\n",
        "INPUT_FOLDER = 'input'\n",
        "TARGET_FOLDER = 'target'\n",
        "\n",
        "class CustomSave(EOTask):\n",
        "    def execute(self, eopatch, image_name=None):\n",
        "        # if we don't have enough data, don't save\n",
        "        spacenet_array = eopatch.data_timeless['spacenet']\n",
        "        data_pct = (np.count_nonzero(spacenet_array) / spacenet_array.size)\n",
        "        if data_pct < 0.9:\n",
        "            return eopatch\n",
        "           \n",
        "        # resize images, rescale to 8bit\n",
        "        sentinel_array = eopatch.data[layer][0]\n",
        "        sentinel_array_8bit = (sentinel_array * 255.).astype(np.uint8)\n",
        "        sentinel_img = Image.fromarray(sentinel_array_8bit).resize(SMALL_SIZE, resample=Image.BILINEAR)\n",
        "        sentinel_img.save(op.join(INPUT_FOLDER, f'{image_name}.png'))\n",
        "        \n",
        "        spacenet_array_8bit = ((spacenet_array - np.min(spacenet_array, axis=(0, 1))) / (np.max(spacenet_array, axis=(0, 1)) - np.min(spacenet_array, axis=(0, 1))) * 255).astype(np.uint8)\n",
        "        spacenet_image = Image.fromarray(spacenet_array_8bit).resize(BIG_SIZE, resample=Image.BILINEAR)\n",
        "        spacenet_image.save(op.join(TARGET_FOLDER, f'{image_name}.png'))\n",
        "        \n",
        "        return eopatch\n",
        "    \n",
        "custom_save = CustomSave()"
      ],
      "outputs": [],
      "execution_count": 5,
      "metadata": {
        "collapsed": false,
        "outputHidden": false,
        "inputHidden": false
      }
    },
    {
      "cell_type": "code",
      "source": [
        "# Create this as a EOWorkflow to run over all the images\n",
        "prepare_data = LinearWorkflow(\n",
        "    input_task,\n",
        "    add_l2a,\n",
        "    custom_save\n",
        ")"
      ],
      "outputs": [],
      "execution_count": 6,
      "metadata": {
        "collapsed": false,
        "outputHidden": false,
        "inputHidden": false
      }
    },
    {
      "cell_type": "code",
      "source": [
        "# Execute the workflow\n",
        "pbar = tqdm(total=len(spacenet_images))\n",
        "for image in spacenet_images:\n",
        "    image_name = op.splitext(op.basename(image))[0].replace('RGB-PanSharpen_AOI_3_Paris_', '')\n",
        "    workflow_input = {\n",
        "        input_task: dict(filename=image),\n",
        "        add_l1c: dict(time_interval=time_interval),\n",
        "        custom_save: dict(image_name=image_name)\n",
        "    }\n",
        "    prepare_data.execute(workflow_input)\n",
        "    pbar.update(1)\n"
      ],
      "outputs": [],
      "execution_count": 7,
      "metadata": {
        "collapsed": false,
        "outputHidden": false,
        "inputHidden": false
      }
    }
  ],
  "metadata": {
    "language_info": {
      "name": "python",
      "version": "3.7.2",
      "mimetype": "text/x-python",
      "codemirror_mode": {
        "name": "ipython",
        "version": 3
      },
      "pygments_lexer": "ipython3",
      "nbconvert_exporter": "python",
      "file_extension": ".py"
    },
    "nteract": {
      "version": "0.15.0"
    }
  },
  "nbformat": 4,
  "nbformat_minor": 0
}